{
 "cells": [
  {
   "cell_type": "markdown",
   "metadata": {
    "collapsed": true,
    "deletable": true,
    "editable": true
   },
   "source": [
    "# Image Classification\n",
    "In this project, you'll classify images from the [CIFAR-10 dataset](https://www.cs.toronto.edu/~kriz/cifar.html).  The dataset consists of airplanes, dogs, cats, and other objects. You'll preprocess the images, then train a convolutional neural network on all the samples. The images need to be normalized and the labels need to be one-hot encoded.  You'll get to apply what you learned and build a convolutional, max pooling, dropout, and fully connected layers.  At the end, you'll get to see your neural network's predictions on the sample images.\n",
    "## Get the Data\n",
    "Run the following cell to download the [CIFAR-10 dataset for python](https://www.cs.toronto.edu/~kriz/cifar-10-python.tar.gz)."
   ]
  },
  {
   "cell_type": "code",
   "execution_count": 2,
   "metadata": {
    "collapsed": false,
    "deletable": true,
    "editable": true
   },
   "outputs": [
    {
     "name": "stdout",
     "output_type": "stream",
     "text": [
      "All files found!\n"
     ]
    }
   ],
   "source": [
    "\"\"\"\n",
    "DON'T MODIFY ANYTHING IN THIS CELL THAT IS BELOW THIS LINE\n",
    "\"\"\"\n",
    "from urllib.request import urlretrieve\n",
    "from os.path import isfile, isdir\n",
    "from tqdm import tqdm\n",
    "import problem_unittests as tests\n",
    "import tarfile\n",
    "\n",
    "cifar10_dataset_folder_path = 'cifar-10-batches-py'\n",
    "\n",
    "class DLProgress(tqdm):\n",
    "    last_block = 0\n",
    "\n",
    "    def hook(self, block_num=1, block_size=1, total_size=None):\n",
    "        self.total = total_size\n",
    "        self.update((block_num - self.last_block) * block_size)\n",
    "        self.last_block = block_num\n",
    "\n",
    "if not isfile('cifar-10-python.tar.gz'):\n",
    "    with DLProgress(unit='B', unit_scale=True, miniters=1, desc='CIFAR-10 Dataset') as pbar:\n",
    "        urlretrieve(\n",
    "            'https://www.cs.toronto.edu/~kriz/cifar-10-python.tar.gz',\n",
    "            'cifar-10-python.tar.gz',\n",
    "            pbar.hook)\n",
    "\n",
    "if not isdir(cifar10_dataset_folder_path):\n",
    "    with tarfile.open('cifar-10-python.tar.gz') as tar:\n",
    "        tar.extractall()\n",
    "        tar.close()\n",
    "\n",
    "\n",
    "tests.test_folder_path(cifar10_dataset_folder_path)"
   ]
  },
  {
   "cell_type": "markdown",
   "metadata": {
    "deletable": true,
    "editable": true
   },
   "source": [
    "## Explore the Data\n",
    "The dataset is broken into batches to prevent your machine from running out of memory.  The CIFAR-10 dataset consists of 5 batches, named `data_batch_1`, `data_batch_2`, etc.. Each batch contains the labels and images that are one of the following:\n",
    "* airplane\n",
    "* automobile\n",
    "* bird\n",
    "* cat\n",
    "* deer\n",
    "* dog\n",
    "* frog\n",
    "* horse\n",
    "* ship\n",
    "* truck\n",
    "\n",
    "Understanding a dataset is part of making predictions on the data.  Play around with the code cell below by changing the `batch_id` and `sample_id`. The `batch_id` is the id for a batch (1-5). The `sample_id` is the id for a image and label pair in the batch.\n",
    "\n",
    "Ask yourself \"What are all possible labels?\", \"What is the range of values for the image data?\", \"Are the labels in order or random?\".  Answers to questions like these will help you preprocess the data and end up with better predictions."
   ]
  },
  {
   "cell_type": "code",
   "execution_count": 3,
   "metadata": {
    "collapsed": false,
    "deletable": true,
    "editable": true
   },
   "outputs": [
    {
     "name": "stdout",
     "output_type": "stream",
     "text": [
      "\n",
      "Stats of batch 1:\n",
      "Samples: 10000\n",
      "Label Counts: {0: 1005, 1: 974, 2: 1032, 3: 1016, 4: 999, 5: 937, 6: 1030, 7: 1001, 8: 1025, 9: 981}\n",
      "First 20 Labels: [6, 9, 9, 4, 1, 1, 2, 7, 8, 3, 4, 7, 7, 2, 9, 9, 9, 3, 2, 6]\n",
      "\n",
      "Example of Image 5:\n",
      "Image - Min Value: 0 Max Value: 252\n",
      "Image - Shape: (32, 32, 3)\n",
      "Label - Label Id: 1 Name: automobile\n"
     ]
    },
    {
     "data": {
      "image/png": "[encoded data removed]",
      "text/plain": [
       "<matplotlib.figure.Figure at 0x7f85ecc88940>"
      ]
     },
     "metadata": {},
     "output_type": "display_data"
    }
   ],
   "source": [
    "%matplotlib inline\n",
    "import matplotlib.pyplot as plt\n",
    "#%config InlineBackend.figure_format = 'retina'\n",
    "\n",
    "import helper\n",
    "import numpy as np\n",
    "\n",
    "# Explore the dataset\n",
    "batch_id = 1\n",
    "sample_id = 5\n",
    "helper.display_stats(cifar10_dataset_folder_path, batch_id, sample_id)"
   ]
  },
  {
   "cell_type": "code",
   "execution_count": 4,
   "metadata": {
    "collapsed": false,
    "deletable": true,
    "editable": true
   },
   "outputs": [
    {
     "name": "stdout",
     "output_type": "stream",
     "text": [
      "Labels are of type <class 'list'>\n",
      "first 10 labels: [6, 9, 9, 4, 1, 1, 2, 7, 8, 3]\n",
      "min label: 0 max label: 9\n"
     ]
    }
   ],
   "source": [
    "label_names = helper._load_label_names()\n",
    "features, labels = helper.load_cfar10_batch(cifar10_dataset_folder_path, batch_id)\n",
    "print('Labels are of type', type(labels))\n",
    "print('first 10 labels:', labels[:10])\n",
    "print('min label:', min(labels), 'max label:',max(labels))"
   ]
  },
  {
   "cell_type": "code",
   "execution_count": 5,
   "metadata": {
    "collapsed": false,
    "deletable": true,
    "editable": true
   },
   "outputs": [
    {
     "name": "stdout",
     "output_type": "stream",
     "text": [
      "type of feaures: <class 'numpy.ndarray'>\n",
      "shape of features: (10000, 32, 32, 3)\n",
      "label for sample image 1 which is: automobile\n",
      "sample image shape: (32, 32, 3)\n"
     ]
    },
    {
     "data": {
      "image/png": "[encoded data removed]",
      "text/plain": [
       "<matplotlib.figure.Figure at 0x7f85ecc88358>"
      ]
     },
     "metadata": {},
     "output_type": "display_data"
    }
   ],
   "source": [
    "print('type of feaures:', type(features))\n",
    "print('shape of features:', features.shape)\n",
    "sample_image = features[5]\n",
    "print('label for sample image', labels[5], 'which is:', label_names[1])\n",
    "print('sample image shape:', sample_image.shape)\n",
    "plt.imshow(sample_image);"
   ]
  },
  {
   "cell_type": "markdown",
   "metadata": {
    "deletable": true,
    "editable": true
   },
   "source": [
    "## Implement Preprocess Functions\n",
    "### Normalize\n",
    "In the cell below, implement the `normalize` function to take in image data, `x`, and return it as a normalized Numpy array. The values should be in the range of 0 to 1, inclusive.  The return object should be the same shape as `x`."
   ]
  },
  {
   "cell_type": "code",
   "execution_count": 6,
   "metadata": {
    "collapsed": false,
    "deletable": true,
    "editable": true
   },
   "outputs": [
    {
     "name": "stdout",
     "output_type": "stream",
     "text": [
      "Tests Passed\n"
     ]
    }
   ],
   "source": [
    "def normalize(x):\n",
    "    \"\"\"\n",
    "    Normalize a list of sample image data in the range of 0 to 1\n",
    "    : x: List of image data.  The image shape is (32, 32, 3)\n",
    "    : return: Numpy array of normalize data\n",
    "    \"\"\"\n",
    "    # TODO: Implement Function\n",
    "    # check whether I can implement this using a numpy array in the first place\n",
    "    out = []\n",
    "    for image in x:\n",
    "        normal_image = []\n",
    "        \n",
    "        for x in image:\n",
    "            n = (x - image.min()) / (image.max() - image.min())\n",
    "            normal_image.append(n)\n",
    "        \n",
    "        out.append(normal_image)\n",
    "      \n",
    "    return np.array(out)\n",
    "\n",
    "\n",
    "\"\"\"\n",
    "DON'T MODIFY ANYTHING IN THIS CELL THAT IS BELOW THIS LINE\n",
    "\"\"\"\n",
    "tests.test_normalize(normalize)"
   ]
  },
  {
   "cell_type": "markdown",
   "metadata": {
    "deletable": true,
    "editable": true
   },
   "source": [
    "### One-hot encode\n",
    "Just like the previous code cell, you'll be implementing a function for preprocessing.  This time, you'll implement the `one_hot_encode` function. The input, `x`, are a list of labels.  Implement the function to return the list of labels as One-Hot encoded Numpy array.  The possible values for labels are 0 to 9. The one-hot encoding function should return the same encoding for each value between each call to `one_hot_encode`.  Make sure to save the map of encodings outside the function.\n",
    "\n",
    "Hint: Don't reinvent the wheel."
   ]
  },
  {
   "cell_type": "code",
   "execution_count": 7,
   "metadata": {
    "collapsed": false,
    "deletable": true,
    "editable": true
   },
   "outputs": [
    {
     "name": "stdout",
     "output_type": "stream",
     "text": [
      "Tests Passed\n"
     ]
    }
   ],
   "source": [
    "def one_hot_encode(x):\n",
    "    \"\"\"\n",
    "    One hot encode a list of sample labels. Return a one-hot encoded vector for each label.\n",
    "    : x: List of sample Labels\n",
    "    : return: Numpy array of one-hot encoded labels\n",
    "    \"\"\"\n",
    "    # TODO: Implement Function\n",
    "    \n",
    "    # using numpy\n",
    "    out = np.zeros([len(x),10])\n",
    "    for i, label in enumerate(x):\n",
    "        out[i][label] = 1\n",
    "    return out\n",
    "    \n",
    "    # since we're not reinventing the wheel, using sklean below\n",
    "    #from sklearn import preprocessing\n",
    "    #lb = preprocessing.LabelBinarizer()\n",
    "    # since there are exactly ten labels, harding coding the number 10 here\n",
    "    #lb.fit(range(10))\n",
    "    #return np.array(lb.transform(x))\n",
    "    \n",
    "\n",
    "\"\"\"\n",
    "DON'T MODIFY ANYTHING IN THIS CELL THAT IS BELOW THIS LINE\n",
    "\"\"\"\n",
    "tests.test_one_hot_encode(one_hot_encode)"
   ]
  },
  {
   "cell_type": "markdown",
   "metadata": {
    "deletable": true,
    "editable": true
   },
   "source": [
    "### Randomize Data\n",
    "As you saw from exploring the data above, the order of the samples are randomized.  It doesn't hurt to randomize it again, but you don't need to for this dataset."
   ]
  },
  {
   "cell_type": "markdown",
   "metadata": {
    "deletable": true,
    "editable": true
   },
   "source": [
    "## Preprocess all the data and save it\n",
    "Running the code cell below will preprocess all the CIFAR-10 data and save it to file. The code below also uses 10% of the training data for validation."
   ]
  },
  {
   "cell_type": "code",
   "execution_count": 12,
   "metadata": {
    "collapsed": false,
    "deletable": true,
    "editable": true
   },
   "outputs": [],
   "source": [
    "\"\"\"\n",
    "DON'T MODIFY ANYTHING IN THIS CELL\n",
    "\"\"\"\n",
    "# Preprocess Training, Validation, and Testing Data\n",
    "helper.preprocess_and_save_data(cifar10_dataset_folder_path, normalize, one_hot_encode)"
   ]
  },
  {
   "cell_type": "markdown",
   "metadata": {
    "deletable": true,
    "editable": true
   },
   "source": [
    "# Check Point\n",
    "This is your first checkpoint.  If you ever decide to come back to this notebook or have to restart the notebook, you can start from here.  The preprocessed data has been saved to disk."
   ]
  },
  {
   "cell_type": "code",
   "execution_count": 1,
   "metadata": {
    "collapsed": false,
    "deletable": true,
    "editable": true
   },
   "outputs": [],
   "source": [
    "\"\"\"\n",
    "DON'T MODIFY ANYTHING IN THIS CELL\n",
    "\"\"\"\n",
    "import pickle\n",
    "import problem_unittests as tests\n",
    "import helper\n",
    "\n",
    "# Load the Preprocessed Validation data\n",
    "valid_features, valid_labels = pickle.load(open('preprocess_validation.p', mode='rb'))"
   ]
  },
  {
   "cell_type": "code",
   "execution_count": 2,
   "metadata": {
    "collapsed": false,
    "deletable": true,
    "editable": true
   },
   "outputs": [
    {
     "data": {
      "text/plain": [
       "(5000, 32, 32, 3)"
      ]
     },
     "execution_count": 2,
     "metadata": {},
     "output_type": "execute_result"
    }
   ],
   "source": [
    "valid_features.shape"
   ]
  },
  {
   "cell_type": "code",
   "execution_count": 3,
   "metadata": {
    "collapsed": false,
    "deletable": true,
    "editable": true
   },
   "outputs": [
    {
     "data": {
      "text/plain": [
       "(5000, 10)"
      ]
     },
     "execution_count": 3,
     "metadata": {},
     "output_type": "execute_result"
    }
   ],
   "source": [
    "valid_labels.shape"
   ]
  },
  {
   "cell_type": "markdown",
   "metadata": {
    "deletable": true,
    "editable": true
   },
   "source": [
    "## Build the network\n",
    "For the neural network, you'll build each layer into a function.  Most of the code you've seen has been outside of functions. To test your code more thoroughly, we require that you put each layer in a function.  This allows us to give you better feedback and test for simple mistakes using our unittests before you submit your project.\n",
    "\n",
    ">**Note:** If you're finding it hard to dedicate enough time for this course each week, we've provided a small shortcut to this part of the project. In the next couple of problems, you'll have the option to use classes from the [TensorFlow Layers](https://www.tensorflow.org/api_docs/python/tf/layers) or [TensorFlow Layers (contrib)](https://www.tensorflow.org/api_guides/python/contrib.layers) packages to build each layer, except the layers you build in the \"Convolutional and Max Pooling Layer\" section.  TF Layers is similar to Keras's and TFLearn's abstraction to layers, so it's easy to pickup.\n",
    "\n",
    ">However, if you would like to get the most out of this course, try to solve all the problems _without_ using anything from the TF Layers packages. You **can** still use classes from other packages that happen to have the same name as ones you find in TF Layers! For example, instead of using the TF Layers version of the `conv2d` class, [tf.layers.conv2d](https://www.tensorflow.org/api_docs/python/tf/layers/conv2d), you would want to use the TF Neural Network version of `conv2d`, [tf.nn.conv2d](https://www.tensorflow.org/api_docs/python/tf/nn/conv2d). \n",
    "\n",
    "Let's begin!\n",
    "\n",
    "### Input\n",
    "The neural network needs to read the image data, one-hot encoded labels, and dropout keep probability. Implement the following functions\n",
    "* Implement `neural_net_image_input`\n",
    " * Return a [TF Placeholder](https://www.tensorflow.org/api_docs/python/tf/placeholder)\n",
    " * Set the shape using `image_shape` with batch size set to `None`.\n",
    " * Name the TensorFlow placeholder \"x\" using the TensorFlow `name` parameter in the [TF Placeholder](https://www.tensorflow.org/api_docs/python/tf/placeholder).\n",
    "* Implement `neural_net_label_input`\n",
    " * Return a [TF Placeholder](https://www.tensorflow.org/api_docs/python/tf/placeholder)\n",
    " * Set the shape using `n_classes` with batch size set to `None`.\n",
    " * Name the TensorFlow placeholder \"y\" using the TensorFlow `name` parameter in the [TF Placeholder](https://www.tensorflow.org/api_docs/python/tf/placeholder).\n",
    "* Implement `neural_net_keep_prob_input`\n",
    " * Return a [TF Placeholder](https://www.tensorflow.org/api_docs/python/tf/placeholder) for dropout keep probability.\n",
    " * Name the TensorFlow placeholder \"keep_prob\" using the TensorFlow `name` parameter in the [TF Placeholder](https://www.tensorflow.org/api_docs/python/tf/placeholder).\n",
    "\n",
    "These names will be used at the end of the project to load your saved model.\n",
    "\n",
    "Note: `None` for shapes in TensorFlow allow for a dynamic size."
   ]
  },
  {
   "cell_type": "code",
   "execution_count": 4,
   "metadata": {
    "collapsed": false,
    "deletable": true,
    "editable": true
   },
   "outputs": [
    {
     "name": "stdout",
     "output_type": "stream",
     "text": [
      "Image Input Tests Passed.\n",
      "Label Input Tests Passed.\n",
      "Keep Prob Tests Passed.\n"
     ]
    }
   ],
   "source": [
    "import tensorflow as tf\n",
    "\n",
    "def neural_net_image_input(image_shape):\n",
    "    \"\"\"\n",
    "    Return a Tensor for a bach of image input\n",
    "    : image_shape: Shape of the images\n",
    "    : return: Tensor for image input.\n",
    "    \"\"\"\n",
    "    # TODO: Implement Function\n",
    "    height, width, depth = image_shape\n",
    "    return tf.placeholder(tf.float32, (None, height, width, depth), \"x\")\n",
    "\n",
    "\n",
    "def neural_net_label_input(n_classes):\n",
    "    \"\"\"\n",
    "    Return a Tensor for a batch of label input\n",
    "    : n_classes: Number of classes\n",
    "    : return: Tensor for label input.\n",
    "    \"\"\"\n",
    "    # TODO: Implement Function\n",
    "    return tf.placeholder(tf.float32, (None, n_classes), \"y\")\n",
    "\n",
    "def neural_net_keep_prob_input():\n",
    "    \"\"\"\n",
    "    Return a Tensor for keep probability\n",
    "    : return: Tensor for keep probability.\n",
    "    \"\"\"\n",
    "    # TODO: Implement Function\n",
    "    return tf.placeholder(tf.float32, (None), \"keep_prob\")\n",
    "\n",
    "\n",
    "\"\"\"\n",
    "DON'T MODIFY ANYTHING IN THIS CELL THAT IS BELOW THIS LINE\n",
    "\"\"\"\n",
    "tf.reset_default_graph()\n",
    "tests.test_nn_image_inputs(neural_net_image_input)\n",
    "tests.test_nn_label_inputs(neural_net_label_input)\n",
    "tests.test_nn_keep_prob_inputs(neural_net_keep_prob_input)"
   ]
  },
  {
   "cell_type": "markdown",
   "metadata": {
    "deletable": true,
    "editable": true
   },
   "source": [
    "### Convolution and Max Pooling Layer\n",
    "Convolution layers have a lot of success with images. For this code cell, you should implement the function `conv2d_maxpool` to apply convolution then max pooling:\n",
    "* Create the weight and bias using `conv_ksize`, `conv_num_outputs` and the shape of `x_tensor`.\n",
    "* Apply a convolution to `x_tensor` using weight and `conv_strides`.\n",
    " * We recommend you use same padding, but you're welcome to use any padding.\n",
    "* Add bias\n",
    "* Add a nonlinear activation to the convolution.\n",
    "* Apply Max Pooling using `pool_ksize` and `pool_strides`.\n",
    " * We recommend you use same padding, but you're welcome to use any padding.\n",
    "\n",
    "**Note:** You **can't** use [TensorFlow Layers](https://www.tensorflow.org/api_docs/python/tf/layers) or [TensorFlow Layers (contrib)](https://www.tensorflow.org/api_guides/python/contrib.layers) for **this** layer, but you can still use TensorFlow's [Neural Network](https://www.tensorflow.org/api_docs/python/tf/nn) package. You may still use the shortcut option for all the **other** layers."
   ]
  },
  {
   "cell_type": "code",
   "execution_count": 391,
   "metadata": {
    "collapsed": false,
    "deletable": true,
    "editable": true
   },
   "outputs": [
    {
     "name": "stdout",
     "output_type": "stream",
     "text": [
      "Tests Passed\n"
     ]
    }
   ],
   "source": [
    "def conv2d_maxpool(x_tensor, conv_num_outputs, conv_ksize, conv_strides, pool_ksize, pool_strides):\n",
    "    \"\"\"\n",
    "    Apply convolution then max pooling to x_tensor\n",
    "    :param x_tensor: TensorFlow Tensor\n",
    "    :param conv_num_outputs: Number of outputs for the convolutional layer\n",
    "    :param conv_ksize: kernal size 2-D Tuple for the convolutional layer\n",
    "    :param conv_strides: Stride 2-D Tuple for convolution\n",
    "    :param pool_ksize: kernal size 2-D Tuple for pool\n",
    "    :param pool_strides: Stride 2-D Tuple for pool\n",
    "    : return: A tensor that represents convolution and max pooling of x_tensor\n",
    "    \"\"\"\n",
    "    # TODO: Implement Function\n",
    "    input_depth = x_tensor.get_shape().as_list()[-1]\n",
    "    \n",
    "    '''beware, many prints below\n",
    "    print(x_tensor)\n",
    "    print('conv_ksize:', type(conv_ksize), conv_ksize)\n",
    "    print('conv outputs:', conv_num_outputs)\n",
    "    print('conv strides:', conv_strides)\n",
    "    print('pool_ksize', pool_ksize)\n",
    "    print('pool_strides', pool_strides)\n",
    "    '''\n",
    "    \n",
    "    # weight has 4 values: (height, width, input_depth, output_depth)\n",
    "    weight = tf.Variable(tf.truncated_normal([conv_ksize[0], conv_ksize[1], input_depth, conv_num_outputs], stddev=0.05))\n",
    "    \n",
    "    # bias should be just the number of outputs\n",
    "    bias = tf.Variable(tf.zeros(conv_num_outputs))\n",
    "    \n",
    "    c_strides = [1, conv_strides[0], conv_strides[1], 1]\n",
    "    \n",
    "    # all right, the acutal convulution begins!\n",
    "    conv_layer = tf.nn.conv2d(x_tensor, weight, c_strides, padding='SAME')\n",
    "    # Add bias\n",
    "    conv_layer = tf.nn.bias_add(conv_layer, bias)\n",
    "    # Apply nonlinear activation function - change this around\n",
    "    conv_layer = tf.nn.relu(conv_layer)\n",
    "    \n",
    "    # the max pooling layer which takes in value, ksize, strides, padding\n",
    "    p_ksize = [1, pool_ksize[0], pool_ksize[1], 1]\n",
    "    p_strides = [1, pool_strides[0], pool_strides[1],1]\n",
    "    \n",
    "    pooling_layer = tf.nn.max_pool(conv_layer, p_ksize, p_strides, 'SAME')\n",
    "    return pooling_layer\n",
    "\n",
    "\n",
    "\"\"\"\n",
    "DON'T MODIFY ANYTHING IN THIS CELL THAT IS BELOW THIS LINE\n",
    "\"\"\"\n",
    "tests.test_con_pool(conv2d_maxpool)"
   ]
  },
  {
   "cell_type": "markdown",
   "metadata": {
    "deletable": true,
    "editable": true
   },
   "source": [
    "### Flatten Layer\n",
    "Implement the `flatten` function to change the dimension of `x_tensor` from a 4-D tensor to a 2-D tensor.  The output should be the shape (*Batch Size*, *Flattened Image Size*). Shortcut option: you can use classes from the [TensorFlow Layers](https://www.tensorflow.org/api_docs/python/tf/layers) or [TensorFlow Layers (contrib)](https://www.tensorflow.org/api_guides/python/contrib.layers) packages for this layer. For more of a challenge, only use other TensorFlow packages."
   ]
  },
  {
   "cell_type": "code",
   "execution_count": 136,
   "metadata": {
    "collapsed": false,
    "deletable": true,
    "editable": true
   },
   "outputs": [
    {
     "name": "stdout",
     "output_type": "stream",
     "text": [
      "Tests Passed\n"
     ]
    }
   ],
   "source": [
    "def flatten(x_tensor):\n",
    "    \"\"\"\n",
    "    Flatten x_tensor to (Batch Size, Flattened Image Size)\n",
    "    : x_tensor: A tensor of size (Batch Size, ...), where ... are the image dimensions.\n",
    "    : return: A tensor of size (Batch Size, Flattened Image Size).\n",
    "    \"\"\"\n",
    "    # TODO: Implement Function\n",
    "    \n",
    "    # the first dimension of x_tensor is None, as that is variable, so use -1 here \n",
    "    # so tf can automagically get the size\n",
    "    \n",
    "    # the other dimensions are the size of the image, so multiplying\n",
    "    # them together gives the length of that dimension\n",
    "    # note: there has to be a better way to multiply numbers in a list\n",
    "    from functools import reduce\n",
    "    image_dimensions = x_tensor.get_shape().as_list()[1:]\n",
    "    flat_size = reduce(lambda x, y: x*y, image_dimensions)\n",
    "    \n",
    "    return tf.reshape(x_tensor, [-1,flat_size])\n",
    "    \n",
    "    # the easy way to do the above\n",
    "    #return tf.contrib.layers.flatten(x_tensor)\n",
    "\n",
    "\"\"\"\n",
    "DON'T MODIFY ANYTHING IN THIS CELL THAT IS BELOW THIS LINE\n",
    "\"\"\"\n",
    "tests.test_flatten(flatten)"
   ]
  },
  {
   "cell_type": "markdown",
   "metadata": {
    "deletable": true,
    "editable": true
   },
   "source": [
    "### Fully-Connected Layer\n",
    "Implement the `fully_conn` function to apply a fully connected layer to `x_tensor` with the shape (*Batch Size*, *num_outputs*). Shortcut option: you can use classes from the [TensorFlow Layers](https://www.tensorflow.org/api_docs/python/tf/layers) or [TensorFlow Layers (contrib)](https://www.tensorflow.org/api_guides/python/contrib.layers) packages for this layer. For more of a challenge, only use other TensorFlow packages."
   ]
  },
  {
   "cell_type": "code",
   "execution_count": 382,
   "metadata": {
    "collapsed": false,
    "deletable": true,
    "editable": true
   },
   "outputs": [
    {
     "name": "stdout",
     "output_type": "stream",
     "text": [
      "Tests Passed\n"
     ]
    }
   ],
   "source": [
    "def fully_conn(x_tensor, num_outputs):\n",
    "    \"\"\"\n",
    "    Apply a fully connected layer to x_tensor using weight and bias\n",
    "    : x_tensor: A 2-D tensor where the first dimension is batch size.\n",
    "    : num_outputs: The number of output that the new tensor should be.\n",
    "    : return: A 2-D tensor where the second dimension is num_outputs.\n",
    "    \"\"\"\n",
    "    # TODO: Implement Function\n",
    "    input_length = x_tensor.get_shape().as_list()[1]\n",
    "    weight = tf.Variable(tf.truncated_normal([input_length, num_outputs], stddev=1))\n",
    "    \n",
    "    # bias should be just the number of outputs\n",
    "    bias = tf.Variable(tf.zeros(num_outputs))\n",
    "    \n",
    "    # fully connected layer\n",
    "    fullyconnected = tf.add(tf.matmul(x_tensor, weight),bias)\n",
    "    \n",
    "    # might as well add a activation on top, explore diff ones\n",
    "    return tf.nn.relu(fullyconnected)\n",
    "\n",
    "\"\"\"\n",
    "DON'T MODIFY ANYTHING IN THIS CELL THAT IS BELOW THIS LINE\n",
    "\"\"\"\n",
    "tests.test_fully_conn(fully_conn)"
   ]
  },
  {
   "cell_type": "markdown",
   "metadata": {
    "deletable": true,
    "editable": true
   },
   "source": [
    "### Output Layer\n",
    "Implement the `output` function to apply a fully connected layer to `x_tensor` with the shape (*Batch Size*, *num_outputs*). Shortcut option: you can use classes from the [TensorFlow Layers](https://www.tensorflow.org/api_docs/python/tf/layers) or [TensorFlow Layers (contrib)](https://www.tensorflow.org/api_guides/python/contrib.layers) packages for this layer. For more of a challenge, only use other TensorFlow packages.\n",
    "\n",
    "**Note:** Activation, softmax, or cross entropy should **not** be applied to this."
   ]
  },
  {
   "cell_type": "code",
   "execution_count": 390,
   "metadata": {
    "collapsed": false,
    "deletable": true,
    "editable": true
   },
   "outputs": [
    {
     "name": "stdout",
     "output_type": "stream",
     "text": [
      "Tests Passed\n"
     ]
    }
   ],
   "source": [
    "def output(x_tensor, num_outputs):\n",
    "    \"\"\"\n",
    "    Apply a output layer to x_tensor using weight and bias\n",
    "    : x_tensor: A 2-D tensor where the first dimension is batch size.\n",
    "    : num_outputs: The number of output that the new tensor should be.\n",
    "    : return: A 2-D tensor where the second dimension is num_outputs.\n",
    "    \"\"\"\n",
    "    # TODO: Implement Function\n",
    "    input_length = x_tensor.get_shape().as_list()[1]\n",
    "    weight = tf.Variable(tf.truncated_normal([input_length, num_outputs], stddev=0.05))\n",
    "    \n",
    "    # bias should be just the number of outputs\n",
    "    bias = tf.Variable(tf.zeros(num_outputs))\n",
    "    \n",
    "    # fully connected layer\n",
    "    return tf.add(tf.matmul(x_tensor, weight),bias)\n",
    "    \n",
    "    # Note: why does udacity say not to add an activation on top\n",
    "    #return tf.nn.relu(fullyconnected)\n",
    "\n",
    "\"\"\"\n",
    "DON'T MODIFY ANYTHING IN THIS CELL THAT IS BELOW THIS LINE\n",
    "\"\"\"\n",
    "tests.test_output(output)"
   ]
  },
  {
   "cell_type": "markdown",
   "metadata": {
    "deletable": true,
    "editable": true
   },
   "source": [
    "### Create Convolutional Model\n",
    "Implement the function `conv_net` to create a convolutional neural network model. The function takes in a batch of images, `x`, and outputs logits.  Use the layers you created above to create this model:\n",
    "\n",
    "* Apply 1, 2, or 3 Convolution and Max Pool layers\n",
    "* Apply a Flatten Layer\n",
    "* Apply 1, 2, or 3 Fully Connected Layers\n",
    "* Apply an Output Layer\n",
    "* Return the output\n",
    "* Apply [TensorFlow's Dropout](https://www.tensorflow.org/api_docs/python/tf/nn/dropout) to one or more layers in the model using `keep_prob`. "
   ]
  },
  {
   "cell_type": "code",
   "execution_count": 439,
   "metadata": {
    "collapsed": false,
    "deletable": true,
    "editable": true
   },
   "outputs": [
    {
     "name": "stdout",
     "output_type": "stream",
     "text": [
      "Neural Network Built!\n"
     ]
    }
   ],
   "source": [
    "def conv_net(x, keep_prob):\n",
    "    \"\"\"\n",
    "    Create a convolutional neural network model\n",
    "    : x: Placeholder tensor that holds image data.\n",
    "    : keep_prob: Placeholder tensor that hold dropout keep probability.\n",
    "    : return: Tensor that represents logits\n",
    "    \"\"\"\n",
    "    # TODO: Apply 1, 2, or 3 Convolution and Max Pool layers\n",
    "    #    Play around with different number of outputs, kernel size and stride\n",
    "    # Function Definition from Above:\n",
    "    #    conv2d_maxpool(x_tensor, conv_num_outputs, conv_ksize, conv_strides, pool_ksize, pool_strides)\n",
    "    \n",
    "    #print('input shape', x.get_shape().as_list())\n",
    "    \n",
    "    conv_ksize = (4,4)\n",
    "    conv_strides = (1,1)\n",
    "    pool_ksize = (4,4)\n",
    "    pool_strides = (1,1)\n",
    "    \n",
    "    c_layer_1 = conv2d_maxpool(x, 12, conv_ksize, conv_strides, pool_ksize, pool_strides)\n",
    "    conv_ksize = (2,2)\n",
    "    c_layer_2 = conv2d_maxpool(c_layer_1, 24, conv_ksize, conv_strides, pool_ksize, pool_strides)\n",
    "    conv_ksize = (1,1)\n",
    "    c_layer_3 = conv2d_maxpool(c_layer_2, 32, conv_ksize, conv_strides, pool_ksize, pool_strides)\n",
    "                             \n",
    "\n",
    "    # TODO: Apply a Flatten Layer\n",
    "    # Function Definition from Above:\n",
    "    #   flatten(x_tensor)\n",
    "    flat_layer = flatten(c_layer_3)\n",
    "\n",
    "    # TODO: Apply 1, 2, or 3 Fully Connected Layers\n",
    "    #    Play around with different number of outputs\n",
    "    # Function Definition from Above:\n",
    "    #   fully_conn(x_tensor, num_outputs)\n",
    "    \n",
    "    f_layer_1 = fully_conn(flat_layer, 128)\n",
    "    f_layer_1 = tf.nn.dropout(f_layer_1, keep_prob)\n",
    "    \n",
    "    f_layer_2 = fully_conn(f_layer_1, 128)\n",
    "    #f_layer_2 = tf.nn.dropout(f_layer_2, keep_prob)\n",
    "    \n",
    "    #f_layer_3 = fully_conn(f_layer_2, 64)\n",
    "    #f_layer_3 = tf.nn.dropout(f_layer_3, keep_prob)\n",
    "    \n",
    "    # TODO: Apply an Output Layer\n",
    "    #    Set this to the number of classes\n",
    "    # Function Definition from Above:\n",
    "    #   output(x_tensor, num_outputs)\n",
    "    \n",
    "    out_layer = output(f_layer_2, 10)\n",
    "    \n",
    "    # TODO: return output\n",
    "    return out_layer\n",
    "\n",
    "\n",
    "\"\"\"\n",
    "DON'T MODIFY ANYTHING IN THIS CELL THAT IS BELOW THIS LINE\n",
    "\"\"\"\n",
    "\n",
    "##############################\n",
    "## Build the Neural Network ##\n",
    "##############################\n",
    "\n",
    "# Remove previous weights, bias, inputs, etc..\n",
    "tf.reset_default_graph()\n",
    "\n",
    "# Inputs\n",
    "x = neural_net_image_input((32, 32, 3))\n",
    "y = neural_net_label_input(10)\n",
    "keep_prob = neural_net_keep_prob_input()\n",
    "\n",
    "# Model\n",
    "logits = conv_net(x, keep_prob)\n",
    "\n",
    "# Name logits Tensor, so that is can be loaded from disk after training\n",
    "logits = tf.identity(logits, name='logits')\n",
    "\n",
    "# Loss and Optimizer\n",
    "cost = tf.reduce_mean(tf.nn.softmax_cross_entropy_with_logits(logits=logits, labels=y))\n",
    "optimizer = tf.train.AdamOptimizer().minimize(cost)\n",
    "\n",
    "# Accuracy\n",
    "correct_pred = tf.equal(tf.argmax(logits, 1), tf.argmax(y, 1))\n",
    "accuracy = tf.reduce_mean(tf.cast(correct_pred, tf.float32), name='accuracy')\n",
    "\n",
    "tests.test_conv_net(conv_net)"
   ]
  },
  {
   "cell_type": "markdown",
   "metadata": {
    "deletable": true,
    "editable": true
   },
   "source": [
    "## Train the Neural Network\n",
    "### Single Optimization\n",
    "Implement the function `train_neural_network` to do a single optimization.  The optimization should use `optimizer` to optimize in `session` with a `feed_dict` of the following:\n",
    "* `x` for image input\n",
    "* `y` for labels\n",
    "* `keep_prob` for keep probability for dropout\n",
    "\n",
    "This function will be called for each batch, so `tf.global_variables_initializer()` has already been called.\n",
    "\n",
    "Note: Nothing needs to be returned. This function is only optimizing the neural network."
   ]
  },
  {
   "cell_type": "code",
   "execution_count": 440,
   "metadata": {
    "collapsed": false,
    "deletable": true,
    "editable": true
   },
   "outputs": [
    {
     "name": "stdout",
     "output_type": "stream",
     "text": [
      "Tests Passed\n"
     ]
    }
   ],
   "source": [
    "def train_neural_network(session, optimizer, keep_probability, feature_batch, label_batch):\n",
    "    \"\"\"\n",
    "    Optimize the session on a batch of images and labels\n",
    "    : session: Current TensorFlow session\n",
    "    : optimizer: TensorFlow optimizer function\n",
    "    : keep_probability: keep probability\n",
    "    : feature_batch: Batch of Numpy image data\n",
    "    : label_batch: Batch of Numpy label data\n",
    "    \"\"\"\n",
    "    # TODO: Implement Function\n",
    "    session.run(optimizer, feed_dict={x: feature_batch, y:label_batch, keep_prob:keep_probability})\n",
    "\n",
    "\n",
    "\"\"\"\n",
    "DON'T MODIFY ANYTHING IN THIS CELL THAT IS BELOW THIS LINE\n",
    "\"\"\"\n",
    "tests.test_train_nn(train_neural_network)"
   ]
  },
  {
   "cell_type": "markdown",
   "metadata": {
    "deletable": true,
    "editable": true
   },
   "source": [
    "### Show Stats\n",
    "Implement the function `print_stats` to print loss and validation accuracy.  Use the global variables `valid_features` and `valid_labels` to calculate validation accuracy.  Use a keep probability of `1.0` to calculate the loss and validation accuracy."
   ]
  },
  {
   "cell_type": "code",
   "execution_count": 441,
   "metadata": {
    "collapsed": false,
    "deletable": true,
    "editable": true
   },
   "outputs": [],
   "source": [
    "def print_stats(session, feature_batch, label_batch, cost, accuracy):\n",
    "    \"\"\"\n",
    "    Print information about loss and validation accuracy\n",
    "    : session: Current TensorFlow session\n",
    "    : feature_batch: Batch of Numpy image data\n",
    "    : label_batch: Batch of Numpy label data\n",
    "    : cost: TensorFlow cost function\n",
    "    : accuracy: TensorFlow accuracy function\n",
    "    \"\"\"\n",
    "    # TODO: Implement Function\n",
    "    loss = session.run(cost,feed_dict={x:feature_batch ,\n",
    "                                   y:label_batch, keep_prob :1.0 })\n",
    "    valid_acc = session.run(accuracy, feed_dict={x:valid_features,\n",
    "                                   y:valid_labels ,keep_prob :1.0 })\n",
    "    \n",
    "    #print('loss at {0:.4f}'.format(loss),'valid_acc at {0:.4f}'.format(valid_acc))\n",
    "    print('  Loss: {:.3f}   Accuracy: {:.2%}'.format(loss, valid_acc))"
   ]
  },
  {
   "cell_type": "markdown",
   "metadata": {
    "deletable": true,
    "editable": true
   },
   "source": [
    "### Hyperparameters\n",
    "Tune the following parameters:\n",
    "* Set `epochs` to the number of iterations until the network stops learning or start overfitting\n",
    "* Set `batch_size` to the highest number that your machine has memory for.  Most people set them to common sizes of memory:\n",
    " * 64\n",
    " * 128\n",
    " * 256\n",
    " * ...\n",
    "* Set `keep_probability` to the probability of keeping a node using dropout"
   ]
  },
  {
   "cell_type": "code",
   "execution_count": 442,
   "metadata": {
    "collapsed": true,
    "deletable": true,
    "editable": true
   },
   "outputs": [],
   "source": [
    "# TODO: Tune Parameters\n",
    "epochs = 20\n",
    "batch_size = 512\n",
    "keep_probability = 0.95"
   ]
  },
  {
   "cell_type": "markdown",
   "metadata": {
    "deletable": true,
    "editable": true
   },
   "source": [
    "### Train on a Single CIFAR-10 Batch\n",
    "Instead of training the neural network on all the CIFAR-10 batches of data, let's use a single batch. This should save time while you iterate on the model to get a better accuracy.  Once the final validation accuracy is 50% or greater, run the model on all the data in the next section."
   ]
  },
  {
   "cell_type": "code",
   "execution_count": 443,
   "metadata": {
    "collapsed": false,
    "deletable": true,
    "editable": true
   },
   "outputs": [
    {
     "name": "stdout",
     "output_type": "stream",
     "text": [
      "Checking the Training on a Single Batch...\n",
      "Epoch  1, CIFAR-10 Batch 1:    Loss: 2.173   Accuracy: 22.04%\n",
      "Epoch  2, CIFAR-10 Batch 1:    Loss: 2.005   Accuracy: 25.96%\n",
      "Epoch  3, CIFAR-10 Batch 1:    Loss: 1.880   Accuracy: 32.90%\n",
      "Epoch  4, CIFAR-10 Batch 1:    Loss: 1.748   Accuracy: 38.62%\n",
      "Epoch  5, CIFAR-10 Batch 1:    Loss: 1.692   Accuracy: 40.44%\n",
      "Epoch  6, CIFAR-10 Batch 1:    Loss: 1.618   Accuracy: 42.86%\n",
      "Epoch  7, CIFAR-10 Batch 1:    Loss: 1.535   Accuracy: 45.18%\n",
      "Epoch  8, CIFAR-10 Batch 1:    Loss: 1.491   Accuracy: 45.84%\n",
      "Epoch  9, CIFAR-10 Batch 1:    Loss: 1.471   Accuracy: 46.06%\n",
      "Epoch 10, CIFAR-10 Batch 1:    Loss: 1.402   Accuracy: 47.76%\n",
      "Epoch 11, CIFAR-10 Batch 1:    Loss: 1.340   Accuracy: 48.66%\n",
      "Epoch 12, CIFAR-10 Batch 1:    Loss: 1.339   Accuracy: 49.68%\n",
      "Epoch 13, CIFAR-10 Batch 1:    Loss: 1.261   Accuracy: 50.88%\n",
      "Epoch 14, CIFAR-10 Batch 1:    Loss: 1.238   Accuracy: 50.28%\n",
      "Epoch 15, CIFAR-10 Batch 1:    Loss: 1.262   Accuracy: 50.08%\n",
      "Epoch 16, CIFAR-10 Batch 1:    Loss: 1.170   Accuracy: 51.50%\n",
      "Epoch 17, CIFAR-10 Batch 1:    Loss: 1.152   Accuracy: 51.48%\n",
      "Epoch 18, CIFAR-10 Batch 1:    Loss: 1.122   Accuracy: 52.04%\n",
      "Epoch 19, CIFAR-10 Batch 1:    Loss: 1.080   Accuracy: 53.50%\n",
      "Epoch 20, CIFAR-10 Batch 1:    Loss: 1.037   Accuracy: 53.84%\n"
     ]
    }
   ],
   "source": [
    "\"\"\"\n",
    "DON'T MODIFY ANYTHING IN THIS CELL\n",
    "\"\"\"\n",
    "print('Checking the Training on a Single Batch...')\n",
    "with tf.Session() as sess:\n",
    "    # Initializing the variables\n",
    "    sess.run(tf.global_variables_initializer())\n",
    "    \n",
    "    # Training cycle\n",
    "    for epoch in range(epochs):\n",
    "        batch_i = 1\n",
    "        for batch_features, batch_labels in helper.load_preprocess_training_batch(batch_i, batch_size):\n",
    "            train_neural_network(sess, optimizer, keep_probability, batch_features, batch_labels)\n",
    "        print('Epoch {:>2}, CIFAR-10 Batch {}:  '.format(epoch + 1, batch_i), end='')\n",
    "        print_stats(sess, batch_features, batch_labels, cost, accuracy)"
   ]
  },
  {
   "cell_type": "markdown",
   "metadata": {
    "deletable": true,
    "editable": true
   },
   "source": [
    "### Fully Train the Model\n",
    "Now that you got a good accuracy with a single CIFAR-10 batch, try it with all five batches."
   ]
  },
  {
   "cell_type": "code",
   "execution_count": 444,
   "metadata": {
    "collapsed": false,
    "deletable": true,
    "editable": true
   },
   "outputs": [
    {
     "name": "stdout",
     "output_type": "stream",
     "text": [
      "Training...\n",
      "Epoch  1, CIFAR-10 Batch 1:    Loss: 2.173   Accuracy: 19.08%\n",
      "Epoch  1, CIFAR-10 Batch 2:    Loss: 1.973   Accuracy: 28.32%\n",
      "Epoch  1, CIFAR-10 Batch 3:    Loss: 1.826   Accuracy: 31.98%\n",
      "Epoch  1, CIFAR-10 Batch 4:    Loss: 1.726   Accuracy: 34.90%\n",
      "Epoch  1, CIFAR-10 Batch 5:    Loss: 1.746   Accuracy: 37.82%\n",
      "Epoch  2, CIFAR-10 Batch 1:    Loss: 1.747   Accuracy: 41.34%\n",
      "Epoch  2, CIFAR-10 Batch 2:    Loss: 1.572   Accuracy: 42.36%\n",
      "Epoch  2, CIFAR-10 Batch 3:    Loss: 1.403   Accuracy: 44.86%\n",
      "Epoch  2, CIFAR-10 Batch 4:    Loss: 1.384   Accuracy: 46.82%\n",
      "Epoch  2, CIFAR-10 Batch 5:    Loss: 1.473   Accuracy: 47.50%\n",
      "Epoch  3, CIFAR-10 Batch 1:    Loss: 1.582   Accuracy: 46.68%\n",
      "Epoch  3, CIFAR-10 Batch 2:    Loss: 1.368   Accuracy: 48.32%\n",
      "Epoch  3, CIFAR-10 Batch 3:    Loss: 1.189   Accuracy: 49.60%\n",
      "Epoch  3, CIFAR-10 Batch 4:    Loss: 1.264   Accuracy: 50.90%\n",
      "Epoch  3, CIFAR-10 Batch 5:    Loss: 1.357   Accuracy: 51.60%\n",
      "Epoch  4, CIFAR-10 Batch 1:    Loss: 1.433   Accuracy: 51.36%\n",
      "Epoch  4, CIFAR-10 Batch 2:    Loss: 1.286   Accuracy: 52.34%\n",
      "Epoch  4, CIFAR-10 Batch 3:    Loss: 1.086   Accuracy: 52.14%\n",
      "Epoch  4, CIFAR-10 Batch 4:    Loss: 1.167   Accuracy: 54.30%\n",
      "Epoch  4, CIFAR-10 Batch 5:    Loss: 1.272   Accuracy: 53.98%\n",
      "Epoch  5, CIFAR-10 Batch 1:    Loss: 1.304   Accuracy: 54.20%\n",
      "Epoch  5, CIFAR-10 Batch 2:    Loss: 1.190   Accuracy: 55.12%\n",
      "Epoch  5, CIFAR-10 Batch 3:    Loss: 0.982   Accuracy: 54.72%\n",
      "Epoch  5, CIFAR-10 Batch 4:    Loss: 1.106   Accuracy: 56.08%\n",
      "Epoch  5, CIFAR-10 Batch 5:    Loss: 1.183   Accuracy: 56.68%\n",
      "Epoch  6, CIFAR-10 Batch 1:    Loss: 1.230   Accuracy: 55.32%\n",
      "Epoch  6, CIFAR-10 Batch 2:    Loss: 1.119   Accuracy: 57.32%\n",
      "Epoch  6, CIFAR-10 Batch 3:    Loss: 0.943   Accuracy: 56.38%\n",
      "Epoch  6, CIFAR-10 Batch 4:    Loss: 1.073   Accuracy: 57.42%\n",
      "Epoch  6, CIFAR-10 Batch 5:    Loss: 1.125   Accuracy: 58.56%\n",
      "Epoch  7, CIFAR-10 Batch 1:    Loss: 1.166   Accuracy: 58.56%\n",
      "Epoch  7, CIFAR-10 Batch 2:    Loss: 1.100   Accuracy: 59.30%\n",
      "Epoch  7, CIFAR-10 Batch 3:    Loss: 0.905   Accuracy: 59.08%\n",
      "Epoch  7, CIFAR-10 Batch 4:    Loss: 1.022   Accuracy: 58.22%\n",
      "Epoch  7, CIFAR-10 Batch 5:    Loss: 1.061   Accuracy: 59.44%\n",
      "Epoch  8, CIFAR-10 Batch 1:    Loss: 1.089   Accuracy: 59.60%\n",
      "Epoch  8, CIFAR-10 Batch 2:    Loss: 1.037   Accuracy: 61.36%\n",
      "Epoch  8, CIFAR-10 Batch 3:    Loss: 0.842   Accuracy: 60.56%\n",
      "Epoch  8, CIFAR-10 Batch 4:    Loss: 0.967   Accuracy: 60.12%\n",
      "Epoch  8, CIFAR-10 Batch 5:    Loss: 1.003   Accuracy: 60.70%\n",
      "Epoch  9, CIFAR-10 Batch 1:    Loss: 1.042   Accuracy: 60.98%\n",
      "Epoch  9, CIFAR-10 Batch 2:    Loss: 1.008   Accuracy: 62.40%\n",
      "Epoch  9, CIFAR-10 Batch 3:    Loss: 0.798   Accuracy: 61.96%\n",
      "Epoch  9, CIFAR-10 Batch 4:    Loss: 0.926   Accuracy: 61.18%\n",
      "Epoch  9, CIFAR-10 Batch 5:    Loss: 0.941   Accuracy: 61.62%\n",
      "Epoch 10, CIFAR-10 Batch 1:    Loss: 0.971   Accuracy: 62.56%\n",
      "Epoch 10, CIFAR-10 Batch 2:    Loss: 1.000   Accuracy: 61.98%\n",
      "Epoch 10, CIFAR-10 Batch 3:    Loss: 0.785   Accuracy: 62.12%\n",
      "Epoch 10, CIFAR-10 Batch 4:    Loss: 0.873   Accuracy: 62.58%\n",
      "Epoch 10, CIFAR-10 Batch 5:    Loss: 0.886   Accuracy: 62.68%\n",
      "Epoch 11, CIFAR-10 Batch 1:    Loss: 0.946   Accuracy: 63.08%\n",
      "Epoch 11, CIFAR-10 Batch 2:    Loss: 0.908   Accuracy: 63.32%\n",
      "Epoch 11, CIFAR-10 Batch 3:    Loss: 0.785   Accuracy: 61.28%\n",
      "Epoch 11, CIFAR-10 Batch 4:    Loss: 0.832   Accuracy: 63.14%\n",
      "Epoch 11, CIFAR-10 Batch 5:    Loss: 0.821   Accuracy: 63.38%\n",
      "Epoch 12, CIFAR-10 Batch 1:    Loss: 0.899   Accuracy: 63.50%\n",
      "Epoch 12, CIFAR-10 Batch 2:    Loss: 0.840   Accuracy: 64.66%\n",
      "Epoch 12, CIFAR-10 Batch 3:    Loss: 0.728   Accuracy: 62.86%\n",
      "Epoch 12, CIFAR-10 Batch 4:    Loss: 0.816   Accuracy: 63.26%\n",
      "Epoch 12, CIFAR-10 Batch 5:    Loss: 0.786   Accuracy: 64.04%\n",
      "Epoch 13, CIFAR-10 Batch 1:    Loss: 0.863   Accuracy: 64.86%\n",
      "Epoch 13, CIFAR-10 Batch 2:    Loss: 0.827   Accuracy: 64.36%\n",
      "Epoch 13, CIFAR-10 Batch 3:    Loss: 0.689   Accuracy: 63.76%\n",
      "Epoch 13, CIFAR-10 Batch 4:    Loss: 0.768   Accuracy: 63.94%\n",
      "Epoch 13, CIFAR-10 Batch 5:    Loss: 0.745   Accuracy: 65.30%\n",
      "Epoch 14, CIFAR-10 Batch 1:    Loss: 0.787   Accuracy: 65.24%\n",
      "Epoch 14, CIFAR-10 Batch 2:    Loss: 0.757   Accuracy: 65.78%\n",
      "Epoch 14, CIFAR-10 Batch 3:    Loss: 0.653   Accuracy: 64.42%\n",
      "Epoch 14, CIFAR-10 Batch 4:    Loss: 0.726   Accuracy: 65.60%\n",
      "Epoch 14, CIFAR-10 Batch 5:    Loss: 0.701   Accuracy: 65.38%\n",
      "Epoch 15, CIFAR-10 Batch 1:    Loss: 0.747   Accuracy: 65.96%\n",
      "Epoch 15, CIFAR-10 Batch 2:    Loss: 0.720   Accuracy: 66.44%\n",
      "Epoch 15, CIFAR-10 Batch 3:    Loss: 0.616   Accuracy: 65.62%\n",
      "Epoch 15, CIFAR-10 Batch 4:    Loss: 0.694   Accuracy: 65.78%\n",
      "Epoch 15, CIFAR-10 Batch 5:    Loss: 0.655   Accuracy: 65.88%\n",
      "Epoch 16, CIFAR-10 Batch 1:    Loss: 0.718   Accuracy: 65.90%\n",
      "Epoch 16, CIFAR-10 Batch 2:    Loss: 0.692   Accuracy: 66.26%\n",
      "Epoch 16, CIFAR-10 Batch 3:    Loss: 0.581   Accuracy: 66.58%\n",
      "Epoch 16, CIFAR-10 Batch 4:    Loss: 0.646   Accuracy: 67.00%\n",
      "Epoch 16, CIFAR-10 Batch 5:    Loss: 0.622   Accuracy: 67.36%\n",
      "Epoch 17, CIFAR-10 Batch 1:    Loss: 0.677   Accuracy: 66.58%\n",
      "Epoch 17, CIFAR-10 Batch 2:    Loss: 0.658   Accuracy: 66.96%\n",
      "Epoch 17, CIFAR-10 Batch 3:    Loss: 0.545   Accuracy: 67.24%\n",
      "Epoch 17, CIFAR-10 Batch 4:    Loss: 0.625   Accuracy: 66.84%\n",
      "Epoch 17, CIFAR-10 Batch 5:    Loss: 0.590   Accuracy: 67.22%\n",
      "Epoch 18, CIFAR-10 Batch 1:    Loss: 0.666   Accuracy: 66.52%\n",
      "Epoch 18, CIFAR-10 Batch 2:    Loss: 0.668   Accuracy: 66.90%\n",
      "Epoch 18, CIFAR-10 Batch 3:    Loss: 0.537   Accuracy: 67.38%\n",
      "Epoch 18, CIFAR-10 Batch 4:    Loss: 0.602   Accuracy: 67.56%\n",
      "Epoch 18, CIFAR-10 Batch 5:    Loss: 0.565   Accuracy: 66.72%\n",
      "Epoch 19, CIFAR-10 Batch 1:    Loss: 0.623   Accuracy: 66.54%\n",
      "Epoch 19, CIFAR-10 Batch 2:    Loss: 0.627   Accuracy: 66.62%\n",
      "Epoch 19, CIFAR-10 Batch 3:    Loss: 0.506   Accuracy: 67.16%\n",
      "Epoch 19, CIFAR-10 Batch 4:    Loss: 0.578   Accuracy: 68.08%\n",
      "Epoch 19, CIFAR-10 Batch 5:    Loss: 0.530   Accuracy: 67.52%\n",
      "Epoch 20, CIFAR-10 Batch 1:    Loss: 0.625   Accuracy: 67.08%\n",
      "Epoch 20, CIFAR-10 Batch 2:    Loss: 0.605   Accuracy: 65.92%\n",
      "Epoch 20, CIFAR-10 Batch 3:    Loss: 0.521   Accuracy: 66.60%\n",
      "Epoch 20, CIFAR-10 Batch 4:    Loss: 0.546   Accuracy: 67.90%\n",
      "Epoch 20, CIFAR-10 Batch 5:    Loss: 0.498   Accuracy: 67.24%\n"
     ]
    }
   ],
   "source": [
    "\"\"\"\n",
    "DON'T MODIFY ANYTHING IN THIS CELL\n",
    "\"\"\"\n",
    "save_model_path = './image_classification'\n",
    "\n",
    "print('Training...')\n",
    "with tf.Session() as sess:\n",
    "    # Initializing the variables\n",
    "    sess.run(tf.global_variables_initializer())\n",
    "    \n",
    "    # Training cycle\n",
    "    for epoch in range(epochs):\n",
    "        # Loop over all batches\n",
    "        n_batches = 5\n",
    "        for batch_i in range(1, n_batches + 1):\n",
    "            for batch_features, batch_labels in helper.load_preprocess_training_batch(batch_i, batch_size):\n",
    "                train_neural_network(sess, optimizer, keep_probability, batch_features, batch_labels)\n",
    "            print('Epoch {:>2}, CIFAR-10 Batch {}:  '.format(epoch + 1, batch_i), end='')\n",
    "            print_stats(sess, batch_features, batch_labels, cost, accuracy)\n",
    "            \n",
    "    # Save Model\n",
    "    saver = tf.train.Saver()\n",
    "    save_path = saver.save(sess, save_model_path)"
   ]
  },
  {
   "cell_type": "markdown",
   "metadata": {
    "deletable": true,
    "editable": true
   },
   "source": [
    "# Checkpoint\n",
    "The model has been saved to disk.\n",
    "## Test Model\n",
    "Test your model against the test dataset.  This will be your final accuracy. You should have an accuracy greater than 50%. If you don't, keep tweaking the model architecture and parameters."
   ]
  },
  {
   "cell_type": "code",
   "execution_count": 445,
   "metadata": {
    "collapsed": false,
    "deletable": true,
    "editable": true
   },
   "outputs": [
    {
     "name": "stdout",
     "output_type": "stream",
     "text": [
      "Testing Accuracy: 0.6612132370471955\n",
      "\n"
     ]
    },
    {
     "data": {
      "image/png": "[encoded data removed]",
      "text/plain": [
       "<matplotlib.figure.Figure at 0x7fad74062860>"
      ]
     },
     "metadata": {
      "image/png": {
       "height": 319,
       "width": 355
      }
     },
     "output_type": "display_data"
    }
   ],
   "source": [
    "\"\"\"\n",
    "DON'T MODIFY ANYTHING IN THIS CELL\n",
    "\"\"\"\n",
    "%matplotlib inline\n",
    "%config InlineBackend.figure_format = 'retina'\n",
    "\n",
    "import tensorflow as tf\n",
    "import pickle\n",
    "import helper\n",
    "import random\n",
    "\n",
    "# Set batch size if not already set\n",
    "try:\n",
    "    if batch_size:\n",
    "        pass\n",
    "except NameError:\n",
    "    batch_size = 64\n",
    "\n",
    "save_model_path = './image_classification'\n",
    "n_samples = 4\n",
    "top_n_predictions = 3\n",
    "\n",
    "def test_model():\n",
    "    \"\"\"\n",
    "    Test the saved model against the test dataset\n",
    "    \"\"\"\n",
    "\n",
    "    test_features, test_labels = pickle.load(open('preprocess_training.p', mode='rb'))\n",
    "    loaded_graph = tf.Graph()\n",
    "\n",
    "    with tf.Session(graph=loaded_graph) as sess:\n",
    "        # Load model\n",
    "        loader = tf.train.import_meta_graph(save_model_path + '.meta')\n",
    "        loader.restore(sess, save_model_path)\n",
    "\n",
    "        # Get Tensors from loaded model\n",
    "        loaded_x = loaded_graph.get_tensor_by_name('x:0')\n",
    "        loaded_y = loaded_graph.get_tensor_by_name('y:0')\n",
    "        loaded_keep_prob = loaded_graph.get_tensor_by_name('keep_prob:0')\n",
    "        loaded_logits = loaded_graph.get_tensor_by_name('logits:0')\n",
    "        loaded_acc = loaded_graph.get_tensor_by_name('accuracy:0')\n",
    "        \n",
    "        # Get accuracy in batches for memory limitations\n",
    "        test_batch_acc_total = 0\n",
    "        test_batch_count = 0\n",
    "        \n",
    "        for train_feature_batch, train_label_batch in helper.batch_features_labels(test_features, test_labels, batch_size):\n",
    "            test_batch_acc_total += sess.run(\n",
    "                loaded_acc,\n",
    "                feed_dict={loaded_x: train_feature_batch, loaded_y: train_label_batch, loaded_keep_prob: 1.0})\n",
    "            test_batch_count += 1\n",
    "\n",
    "        print('Testing Accuracy: {}\\n'.format(test_batch_acc_total/test_batch_count))\n",
    "\n",
    "        # Print Random Samples\n",
    "        random_test_features, random_test_labels = tuple(zip(*random.sample(list(zip(test_features, test_labels)), n_samples)))\n",
    "        random_test_predictions = sess.run(\n",
    "            tf.nn.top_k(tf.nn.softmax(loaded_logits), top_n_predictions),\n",
    "            feed_dict={loaded_x: random_test_features, loaded_y: random_test_labels, loaded_keep_prob: 1.0})\n",
    "        helper.display_image_predictions(random_test_features, random_test_labels, random_test_predictions)\n",
    "\n",
    "\n",
    "test_model()"
   ]
  },
  {
   "cell_type": "markdown",
   "metadata": {
    "deletable": true,
    "editable": true
   },
   "source": [
    "## Why 50-80% Accuracy?\n",
    "You might be wondering why you can't get an accuracy any higher. First things first, 50% isn't bad for a simple CNN.  Pure guessing would get you 10% accuracy. However, you might notice people are getting scores [well above 80%](http://rodrigob.github.io/are_we_there_yet/build/classification_datasets_results.html#43494641522d3130).  That's because we haven't taught you all there is to know about neural networks. We still need to cover a few more techniques.\n",
    "## Submitting This Project\n",
    "When submitting this project, make sure to run all the cells before saving the notebook.  Save the notebook file as \"dlnd_image_classification.ipynb\" and save it as a HTML file under \"File\" -> \"Download as\".  Include the \"helper.py\" and \"problem_unittests.py\" files in your submission."
   ]
  }
 ],
 "metadata": {
  "anaconda-cloud": {},
  "kernelspec": {
   "display_name": "Python 3",
   "language": "python",
   "name": "python3"
  },
  "language_info": {
   "codemirror_mode": {
    "name": "ipython",
    "version": 3
   },
   "file_extension": ".py",
   "mimetype": "text/x-python",
   "name": "python",
   "nbconvert_exporter": "python",
   "pygments_lexer": "ipython3",
   "version": "3.5.2"
  },
  "widgets": {
   "state": {},
   "version": "1.1.2"
  }
 },
 "nbformat": 4,
 "nbformat_minor": 0
}
